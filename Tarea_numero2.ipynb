{
  "nbformat": 4,
  "nbformat_minor": 0,
  "metadata": {
    "colab": {
      "name": "Tarea_numero2.ipynb",
      "provenance": [],
      "authorship_tag": "ABX9TyOHMCL4kaJjLrgEap3iZnWO",
      "include_colab_link": true
    },
    "kernelspec": {
      "name": "python3",
      "display_name": "Python 3"
    },
    "language_info": {
      "name": "python"
    }
  },
  "cells": [
    {
      "cell_type": "markdown",
      "metadata": {
        "id": "view-in-github",
        "colab_type": "text"
      },
      "source": [
        "<a href=\"https://colab.research.google.com/github/casandra12/tarea-composicion/blob/main/Tarea_numero2.ipynb\" target=\"_parent\"><img src=\"https://colab.research.google.com/assets/colab-badge.svg\" alt=\"Open In Colab\"/></a>"
      ]
    },
    {
      "cell_type": "code",
      "metadata": {
        "id": "ONj61P67CYzN"
      },
      "source": [
        "def suma(n):\n",
        "    if len(n)== 0:\n",
        "        return 0\n",
        "    else:\n",
        "        return n[0] + suma(n[1:])"
      ],
      "execution_count": 10,
      "outputs": []
    },
    {
      "cell_type": "code",
      "metadata": {
        "colab": {
          "base_uri": "https://localhost:8080/"
        },
        "id": "jdvsQfnvDKgz",
        "outputId": "5e93a4b3-d4ab-47ff-85b5-b6758d6d9a89"
      },
      "source": [
        "l = []\n",
        "nu = input(\"Dame los números a sumar\\n(Separados con espacios, da enter cuando termines): \")\n",
        "l = [int(i) for i in nu.split(' ')]\n",
        " \n",
        "r = suma(l)\n",
        " \n",
        "print(\"La suma de todos los números es: \", r)"
      ],
      "execution_count": 11,
      "outputs": [
        {
          "output_type": "stream",
          "name": "stdout",
          "text": [
            "Dame los números a sumar\n",
            "(Separados con espacios, da enter cuando termines): 1 2 3 4\n",
            "La suma de todos los números es:  10\n"
          ]
        }
      ]
    },
    {
      "cell_type": "code",
      "metadata": {
        "id": "y4N0kuznClUe"
      },
      "source": [
        "def boom (n):\n",
        "  if n >= 0 :\n",
        "    print( n )\n",
        "    boom( n - 1 )\n",
        "    if n == 0:\n",
        "      print ( \"BOOOOOOM\")"
      ],
      "execution_count": 7,
      "outputs": []
    },
    {
      "cell_type": "code",
      "metadata": {
        "colab": {
          "base_uri": "https://localhost:8080/"
        },
        "id": "lqE9pO2KCpeG",
        "outputId": "f02d0095-7dab-48de-ad60-396d6fea3854"
      },
      "source": [
        "boom(15)"
      ],
      "execution_count": 9,
      "outputs": [
        {
          "output_type": "stream",
          "name": "stdout",
          "text": [
            "15\n",
            "14\n",
            "13\n",
            "12\n",
            "11\n",
            "10\n",
            "9\n",
            "8\n",
            "7\n",
            "6\n",
            "5\n",
            "4\n",
            "3\n",
            "2\n",
            "1\n",
            "0\n",
            "BOOOOOOM\n"
          ]
        }
      ]
    },
    {
      "cell_type": "code",
      "metadata": {
        "colab": {
          "base_uri": "https://localhost:8080/"
        },
        "id": "ShOk37JDDwd2",
        "outputId": "ac6ec47b-a955-4940-b6d1-071af7257d82"
      },
      "source": [
        "listaNumeros = [1, 2, 3, 4, 5, 6, 7, 8, 9, 10, 11]\n",
        "\n",
        "del(listaNumeros[5])\n",
        "\n",
        "print (listaNumeros)"
      ],
      "execution_count": 12,
      "outputs": [
        {
          "output_type": "stream",
          "name": "stdout",
          "text": [
            "[1, 2, 3, 4, 5, 7, 8, 9, 10, 11]\n"
          ]
        }
      ]
    },
    {
      "cell_type": "code",
      "metadata": {
        "id": "IT4_eepWD9Zg"
      },
      "source": [
        "def Fibonacci (n):\n",
        "  if n == 0:\n",
        "    return 0\n",
        "  elif n == 1:\n",
        "    return 1\n",
        "  else:\n",
        "    return (Fibonacci(n-1)+Fibonacci(n-2))"
      ],
      "execution_count": 13,
      "outputs": []
    },
    {
      "cell_type": "code",
      "metadata": {
        "colab": {
          "base_uri": "https://localhost:8080/"
        },
        "id": "nZQfA2KHD_oh",
        "outputId": "0eb482e7-7385-4e92-deab-cef41097ec8b"
      },
      "source": [
        "\n",
        "n = 7\n",
        "print (Fibonacci(n))"
      ],
      "execution_count": 15,
      "outputs": [
        {
          "output_type": "stream",
          "name": "stdout",
          "text": [
            "13\n"
          ]
        }
      ]
    }
  ]
}